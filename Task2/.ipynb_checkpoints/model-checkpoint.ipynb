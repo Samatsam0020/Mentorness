{
 "cells": [
  {
   "cell_type": "code",
   "execution_count": 18,
   "id": "607321bf",
   "metadata": {},
   "outputs": [],
   "source": [
    "import pandas as pd\n",
    "import numpy as np\n",
    "import matplotlib.pyplot as plt\n",
    "from sklearn.svm import SVC\n",
    "from sklearn.metrics import accuracy_score\n",
    "from sklearn.preprocessing import StandardScaler\n",
    "from sklearn.ensemble import ExtraTreesClassifier\n",
    "from sklearn.metrics import recall_score, precision_score, f1_score"
   ]
  },
  {
   "cell_type": "markdown",
   "id": "6c20b4d0",
   "metadata": {},
   "source": [
    "## Import data"
   ]
  },
  {
   "cell_type": "code",
   "execution_count": 20,
   "id": "58a062df",
   "metadata": {},
   "outputs": [
    {
     "name": "stdout",
     "output_type": "stream",
     "text": [
      "train data dims : (2351, 25)\n",
      "test data dims : (486, 25)\n"
     ]
    }
   ],
   "source": [
    "train = pd.read_csv('Train_data.csv')\n",
    "test= pd.read_csv('test_data.csv')\n",
    "\n",
    "print(f'train data dims : {train.shape}')\n",
    "print(f'test data dims : {test.shape}')"
   ]
  },
  {
   "cell_type": "markdown",
   "id": "1afe65da",
   "metadata": {},
   "source": [
    "## EDA"
   ]
  },
  {
   "cell_type": "code",
   "execution_count": 21,
   "id": "6b1481d6",
   "metadata": {},
   "outputs": [
    {
     "name": "stdout",
     "output_type": "stream",
     "text": [
      "Glucose                                      0\n",
      "Cholesterol                                  0\n",
      "Hemoglobin                                   0\n",
      "Platelets                                    0\n",
      "White Blood Cells                            0\n",
      "Red Blood Cells                              0\n",
      "Hematocrit                                   0\n",
      "Mean Corpuscular Volume                      0\n",
      "Mean Corpuscular Hemoglobin                  0\n",
      "Mean Corpuscular Hemoglobin Concentration    0\n",
      "Insulin                                      0\n",
      "BMI                                          0\n",
      "Systolic Blood Pressure                      0\n",
      "Diastolic Blood Pressure                     0\n",
      "Triglycerides                                0\n",
      "HbA1c                                        0\n",
      "LDL Cholesterol                              0\n",
      "HDL Cholesterol                              0\n",
      "ALT                                          0\n",
      "AST                                          0\n",
      "Heart Rate                                   0\n",
      "Creatinine                                   0\n",
      "Troponin                                     0\n",
      "C-reactive Protein                           0\n",
      "Disease                                      0\n",
      "dtype: int64\n",
      "Glucose                                      0\n",
      "Cholesterol                                  0\n",
      "Hemoglobin                                   0\n",
      "Platelets                                    0\n",
      "White Blood Cells                            0\n",
      "Red Blood Cells                              0\n",
      "Hematocrit                                   0\n",
      "Mean Corpuscular Volume                      0\n",
      "Mean Corpuscular Hemoglobin                  0\n",
      "Mean Corpuscular Hemoglobin Concentration    0\n",
      "Insulin                                      0\n",
      "BMI                                          0\n",
      "Systolic Blood Pressure                      0\n",
      "Diastolic Blood Pressure                     0\n",
      "Triglycerides                                0\n",
      "HbA1c                                        0\n",
      "LDL Cholesterol                              0\n",
      "HDL Cholesterol                              0\n",
      "ALT                                          0\n",
      "AST                                          0\n",
      "Heart Rate                                   0\n",
      "Creatinine                                   0\n",
      "Troponin                                     0\n",
      "C-reactive Protein                           0\n",
      "Disease                                      0\n",
      "dtype: int64\n"
     ]
    }
   ],
   "source": [
    "print(train.isnull().sum())\n",
    "print(test.isnull().sum())"
   ]
  },
  {
   "cell_type": "markdown",
   "id": "d12b0661",
   "metadata": {},
   "source": [
    "## Preprocessing"
   ]
  },
  {
   "cell_type": "code",
   "execution_count": 4,
   "id": "876a22ac",
   "metadata": {},
   "outputs": [
    {
     "data": {
      "text/plain": [
       "Index(['Glucose', 'Cholesterol', 'Hemoglobin', 'Platelets',\n",
       "       'White Blood Cells', 'Red Blood Cells', 'Hematocrit',\n",
       "       'Mean Corpuscular Volume', 'Mean Corpuscular Hemoglobin',\n",
       "       'Mean Corpuscular Hemoglobin Concentration', 'Insulin', 'BMI',\n",
       "       'Systolic Blood Pressure', 'Diastolic Blood Pressure', 'Triglycerides',\n",
       "       'HbA1c', 'LDL Cholesterol', 'HDL Cholesterol', 'ALT', 'AST',\n",
       "       'Heart Rate', 'Creatinine', 'Troponin', 'C-reactive Protein',\n",
       "       'Disease'],\n",
       "      dtype='object')"
      ]
     },
     "execution_count": 4,
     "metadata": {},
     "output_type": "execute_result"
    }
   ],
   "source": [
    "train.columns"
   ]
  },
  {
   "cell_type": "code",
   "execution_count": 5,
   "id": "66241acd",
   "metadata": {},
   "outputs": [
    {
     "data": {
      "text/plain": [
       "['Thalasse', 'Diabetes', 'Heart Di', 'Anemia', 'Thromboc', 'Healthy']"
      ]
     },
     "execution_count": 5,
     "metadata": {},
     "output_type": "execute_result"
    }
   ],
   "source": [
    "test['Disease'].unique().tolist()"
   ]
  },
  {
   "cell_type": "code",
   "execution_count": 6,
   "id": "ec0dc547",
   "metadata": {},
   "outputs": [
    {
     "data": {
      "text/plain": [
       "['Healthy', 'Diabetes', 'Thalasse', 'Anemia', 'Thromboc']"
      ]
     },
     "execution_count": 6,
     "metadata": {},
     "output_type": "execute_result"
    }
   ],
   "source": [
    "train['Disease'].unique().tolist()"
   ]
  },
  {
   "cell_type": "code",
   "execution_count": 7,
   "id": "01fc3caa",
   "metadata": {},
   "outputs": [
    {
     "name": "stdout",
     "output_type": "stream",
     "text": [
      "train data dims : (2351, 25)\n",
      "test data dims : (486, 25)\n"
     ]
    }
   ],
   "source": [
    "print(f'train data dims : {train.shape}')\n",
    "print(f'test data dims : {test.shape}')"
   ]
  },
  {
   "cell_type": "code",
   "execution_count": 8,
   "id": "20012008",
   "metadata": {},
   "outputs": [],
   "source": [
    "disease = ['Diabetes', 'Thalasse', 'Anemia', 'Thromboc']\n",
    "non_disease = ['Healthy']"
   ]
  },
  {
   "cell_type": "code",
   "execution_count": 9,
   "id": "d8cc5f04",
   "metadata": {},
   "outputs": [],
   "source": [
    "train['Disease'] = np.where(train['Disease'].isin(non_disease), 0,1)\n",
    "test['Disease'] = np.where(test['Disease'].isin(non_disease), 0,1)"
   ]
  },
  {
   "cell_type": "code",
   "execution_count": 10,
   "id": "164294e6",
   "metadata": {},
   "outputs": [],
   "source": [
    "y_train = train.pop('Disease')\n",
    "y_test = test.pop('Disease')"
   ]
  },
  {
   "cell_type": "code",
   "execution_count": 11,
   "id": "d1d116e6",
   "metadata": {},
   "outputs": [],
   "source": [
    "scaler = StandardScaler()\n",
    "x_train = scaler.fit_transform(train)\n",
    "x_test = scaler.fit_transform(test)"
   ]
  },
  {
   "cell_type": "markdown",
   "id": "b1e83f08",
   "metadata": {},
   "source": [
    "## Model"
   ]
  },
  {
   "cell_type": "code",
   "execution_count": 12,
   "id": "d4d49069",
   "metadata": {},
   "outputs": [],
   "source": [
    "model = ExtraTreesClassifier(n_estimators=288, random_state = 0)\n",
    "#the best n_estimators finded manually, GridSearchCV was inefficient in this case"
   ]
  },
  {
   "cell_type": "code",
   "execution_count": 13,
   "id": "18b29e4a",
   "metadata": {},
   "outputs": [
    {
     "data": {
      "text/plain": [
       "1.0"
      ]
     },
     "execution_count": 13,
     "metadata": {},
     "output_type": "execute_result"
    }
   ],
   "source": [
    "model.fit(x_train, y_train)\n",
    "model.score(x_train, y_train)"
   ]
  },
  {
   "cell_type": "code",
   "execution_count": 14,
   "id": "86605b1b",
   "metadata": {},
   "outputs": [],
   "source": [
    "predictions = model.predict(x_test)"
   ]
  },
  {
   "cell_type": "markdown",
   "id": "b4291ca1",
   "metadata": {},
   "source": [
    "## Evaluation metrics"
   ]
  },
  {
   "cell_type": "code",
   "execution_count": 16,
   "id": "13a71f07",
   "metadata": {},
   "outputs": [
    {
     "name": "stdout",
     "output_type": "stream",
     "text": [
      "accuracy : 97.94 %\n",
      "precision : 98.96 %\n",
      "recall : 98.96 %\n",
      "f1_score : 98.96 %\n"
     ]
    }
   ],
   "source": [
    "print(f'accuracy : {round(accuracy_score(predictions, y_test)*100, 2)} %')\n",
    "print(f'precision : {round(precision_score(predictions, y_test)*100, 2)} %')\n",
    "print(f'recall : {round(recall_score(predictions, y_test)*100, 2)} %')\n",
    "print(f'f1_score : {round(f1_score(predictions, y_test)*100, 2)} %')"
   ]
  }
 ],
 "metadata": {
  "kernelspec": {
   "display_name": "Python 3 (ipykernel)",
   "language": "python",
   "name": "python3"
  },
  "language_info": {
   "codemirror_mode": {
    "name": "ipython",
    "version": 3
   },
   "file_extension": ".py",
   "mimetype": "text/x-python",
   "name": "python",
   "nbconvert_exporter": "python",
   "pygments_lexer": "ipython3",
   "version": "3.10.12"
  }
 },
 "nbformat": 4,
 "nbformat_minor": 5
}
